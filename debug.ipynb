{
 "cells": [
  {
   "cell_type": "code",
   "execution_count": 1,
   "id": "01537dd4-d0cc-4f98-b3dc-6b2ff4737526",
   "metadata": {},
   "outputs": [
    {
     "name": "stderr",
     "output_type": "stream",
     "text": [
      "Warning: Gym version v0.24.0 has a number of critical issues with `gym.make` such that the `reset` and `step` functions are called before returning the environment. It is recommend to downgrading to v0.23.1 or upgrading to v0.25.1\n"
     ]
    }
   ],
   "source": [
    "\"\"\"\n",
    "Copyright (c) Meta Platforms, Inc. and affiliates.\n",
    "\n",
    "This source code is licensed under the CC BY-NC license found in the\n",
    "LICENSE.md file in the root directory of this source tree.\n",
    "\"\"\"\n",
    "\n",
    "from torch.utils.tensorboard import SummaryWriter\n",
    "import argparse\n",
    "import pickle\n",
    "import random\n",
    "import time\n",
    "import gym\n",
    "\n",
    "import torch\n",
    "import numpy as np\n",
    "import pandas as pd\n",
    "\n",
    "from datasets import load_from_disk\n",
    "import datasets\n",
    "\n",
    "import utils\n",
    "from replay_buffer import ReplayBuffer\n",
    "from lamb import Lamb\n",
    "#from stable_baselines3.common.vec_env import SubprocVecEnv\n",
    "from pathlib import Path\n",
    "from data import create_dataloader\n",
    "from decision_transformer.models.decision_transformer import DecisionTransformer\n",
    "#from evaluation import create_vec_eval_episodes_fn, vec_evaluate_episode_rtg\n",
    "from evaluation_citylearn import create_eval_episodes_fn,evaluate_episode_rtg,create_test_episodes_fn\n",
    "from trainer import SequenceTrainer#, SequenceTrainerCustom\n",
    "from logger import Logger\n",
    "from wrappers_custom import *\n",
    "from utils_.helpers import *\n",
    "\n",
    "from citylearn.citylearn import CityLearnEnv\n",
    "from citylearn.wrappers import *\n",
    "from utils_.variant_dict import variant\n",
    "\n",
    "MAX_EPISODE_LEN = 8760"
   ]
  },
  {
   "cell_type": "code",
   "execution_count": 2,
   "id": "e65d9158-9c2e-439a-aad5-277601f43a8e",
   "metadata": {},
   "outputs": [],
   "source": [
    "class self:\n",
    "    a = 3\n"
   ]
  },
  {
   "cell_type": "code",
   "execution_count": 3,
   "id": "9b6d3cbf-b171-4ecc-bae4-0edb6e5f04cc",
   "metadata": {},
   "outputs": [],
   "source": [
    "self.device = \"cuda\""
   ]
  },
  {
   "cell_type": "code",
   "execution_count": 4,
   "id": "5465f220-14a4-475c-990d-2765fda0b7e1",
   "metadata": {},
   "outputs": [
    {
     "name": "stderr",
     "output_type": "stream",
     "text": [
      "/home/ml-stud15/miniconda3/envs/stable3/lib/python3.9/site-packages/pandas/core/dtypes/cast.py:1846: DeprecationWarning: np.find_common_type is deprecated.  Please use `np.result_type` or `np.promote_types`.\n",
      "See https://numpy.org/devdocs/release/1.25.0-notes.html and the docs for more information.  (Deprecated NumPy 1.25)\n",
      "  return np.find_common_type(types, [])  # type: ignore[arg-type]\n"
     ]
    }
   ],
   "source": [
    "env = CityLearnEnv(schema=\"citylearn_challenge_2022_phase_1\")\n",
    "env.central_agent = True\n",
    "env = NormalizedObservationWrapper(env)\n",
    "env = StableBaselines3WrapperCustom(env)"
   ]
  },
  {
   "cell_type": "code",
   "execution_count": 5,
   "id": "81a4ed2b-6052-4589-b444-849c712252ec",
   "metadata": {},
   "outputs": [],
   "source": [
    "dataset_path=\"data_interactions/model_RBCAgent1_timesteps_8760_rf_CombinedReward_phase_1_new.pkl\""
   ]
  },
  {
   "cell_type": "code",
   "execution_count": 6,
   "id": "a8fb894b-216a-4d7d-8ae0-0167a39c1566",
   "metadata": {},
   "outputs": [],
   "source": [
    "def _get_env_spec(env):\n",
    "    state_dim = env.observation_space.shape[0]\n",
    "    act_dim = env.action_space.shape[0]\n",
    "    action_range = [\n",
    "                -1,#float(env.action_space.low.min()) ,\n",
    "                1#float(env.action_space.high.max()) ,\n",
    "            ]\n",
    "    return state_dim,act_dim, action_range\n",
    "    \n",
    "def _get_initial_trajectories(dataset_path):\n",
    "    dataset = load_from_disk(dataset_path)\n",
    "    dataset,_ = segment_v2(dataset[\"observations\"],dataset[\"actions\"],dataset[\"rewards\"],dataset[\"dones\"])\n",
    "    trajectories = datasets.Dataset.from_dict({k: [s[k] for s in dataset] for k in dataset[0].keys()})\n",
    "\n",
    "    return trajectories"
   ]
  },
  {
   "cell_type": "code",
   "execution_count": 7,
   "id": "10ae3124-c450-49e0-a016-2b09d05a4916",
   "metadata": {},
   "outputs": [],
   "source": [
    "def _load_dataset(trajectories):\n",
    "    states, traj_lens, returns = [], [], []\n",
    "    for path in trajectories:\n",
    "        states.append(path[\"observations\"])\n",
    "        traj_lens.append(len(path[\"observations\"]))\n",
    "        returns.append(np.array(path[\"rewards\"]).sum())\n",
    "    traj_lens, returns = np.array(traj_lens), np.array(returns)\n",
    "\n",
    "            # used for input normalization\n",
    "    states = np.concatenate(states, axis=0)\n",
    "    state_mean, state_std = np.mean(states, axis=0), np.std(states, axis=0) + 1e-6\n",
    "    num_timesteps = sum(traj_lens)\n",
    "\n",
    "       \n",
    "    sorted_inds = np.argsort(returns)  # lowest to highest\n",
    "    num_trajectories = 1\n",
    "    timesteps = traj_lens[sorted_inds[-1]]\n",
    "    ind = len(trajectories) - 2\n",
    "    while ind >= 0 and timesteps + traj_lens[sorted_inds[ind]] <= num_timesteps:\n",
    "        timesteps += traj_lens[sorted_inds[ind]]\n",
    "        num_trajectories += 1\n",
    "        ind -= 1\n",
    "    sorted_inds = sorted_inds[-num_trajectories:]\n",
    "    print(sorted_inds)\n",
    "        #print(trajectories[1])\n",
    "    for ii in sorted_inds:\n",
    "        print(ii)\n",
    "        #print(trajectories[0].keys())\n",
    "    trajectories = [trajectories[int(ii)] for ii in sorted_inds]\n",
    "\n",
    "    for trajectory in trajectories:\n",
    "        for key in trajectory.keys():\n",
    "            trajectory[key] = np.array(trajectory[key])\n",
    "\n",
    "\n",
    "    return trajectories, state_mean, state_std"
   ]
  },
  {
   "cell_type": "code",
   "execution_count": 8,
   "id": "c729d06f-0091-4f9e-a092-1369e5c7f688",
   "metadata": {},
   "outputs": [
    {
     "name": "stderr",
     "output_type": "stream",
     "text": [
      "/home/ml-stud15/miniconda3/envs/stable3/lib/python3.9/site-packages/gymnasium/core.py:311: UserWarning: \u001b[33mWARN: env.central_agent to get variables from other wrappers is deprecated and will be removed in v1.0, to get this variable you can do `env.unwrapped.central_agent` for environment variables or `env.get_wrapper_attr('central_agent')` that will search the reminding wrappers.\u001b[0m\n",
      "  logger.warn(\n",
      "/home/ml-stud15/miniconda3/envs/stable3/lib/python3.9/site-packages/gymnasium/core.py:311: UserWarning: \u001b[33mWARN: env.buildings to get variables from other wrappers is deprecated and will be removed in v1.0, to get this variable you can do `env.unwrapped.buildings` for environment variables or `env.get_wrapper_attr('buildings')` that will search the reminding wrappers.\u001b[0m\n",
      "  logger.warn(\n",
      "/home/ml-stud15/miniconda3/envs/stable3/lib/python3.9/site-packages/gymnasium/core.py:311: UserWarning: \u001b[33mWARN: env.shared_observations to get variables from other wrappers is deprecated and will be removed in v1.0, to get this variable you can do `env.unwrapped.shared_observations` for environment variables or `env.get_wrapper_attr('shared_observations')` that will search the reminding wrappers.\u001b[0m\n",
      "  logger.warn(\n"
     ]
    },
    {
     "data": {
      "application/vnd.jupyter.widget-view+json": {
       "model_id": "7c789f86a9884b91ab3cd600ac1babc4",
       "version_major": 2,
       "version_minor": 0
      },
      "text/plain": [
       "Segmenting:   0%|          | 0/8759 [00:00<?, ?it/s]"
      ]
     },
     "metadata": {},
     "output_type": "display_data"
    }
   ],
   "source": [
    "self.state_dim, self.act_dim, self.action_range = _get_env_spec(env)\n",
    "self.initial_trajectories = _get_initial_trajectories(dataset_path=dataset_path)\n"
   ]
  },
  {
   "cell_type": "code",
   "execution_count": 9,
   "id": "e4eb10d9-080b-4c0e-9e39-a2cc70c2b081",
   "metadata": {},
   "outputs": [
    {
     "name": "stdout",
     "output_type": "stream",
     "text": [
      "[0]\n",
      "0\n"
     ]
    }
   ],
   "source": [
    "self.offline_trajs, self.state_mean, self.state_std = _load_dataset(\n",
    "            self.initial_trajectories\n",
    "        )"
   ]
  },
  {
   "cell_type": "code",
   "execution_count": 10,
   "id": "9bb2fe91-82a3-4746-99b3-a0c6eb07e8de",
   "metadata": {},
   "outputs": [],
   "source": [
    "self.replay_buffer = ReplayBuffer(100000, self.offline_trajs)"
   ]
  },
  {
   "cell_type": "code",
   "execution_count": 11,
   "id": "df0035be-85b6-4637-9173-59b5bb4f012a",
   "metadata": {},
   "outputs": [],
   "source": [
    "self.target_entropy = - self.act_dim"
   ]
  },
  {
   "cell_type": "code",
   "execution_count": 12,
   "id": "43d59492-a05f-4d4e-8421-0970829e6ac6",
   "metadata": {},
   "outputs": [],
   "source": [
    "self.hidden_size = 128"
   ]
  },
  {
   "cell_type": "code",
   "execution_count": 13,
   "id": "927d9944-89fb-4bff-986b-db8e486709b2",
   "metadata": {},
   "outputs": [],
   "source": [
    "self.model = DecisionTransformer(\n",
    "            state_dim=self.state_dim,\n",
    "            act_dim=self.act_dim,\n",
    "            action_range=self.action_range,\n",
    "            max_length=24,\n",
    "            eval_context_length=24,\n",
    "            max_ep_len=8760,\n",
    "            hidden_size=128,\n",
    "            n_layer=4,\n",
    "            n_head=1,\n",
    "            n_ctx = 72,  # because K = 24\n",
    "            n_inner=4 * 128,\n",
    "            activation_function=\"relu\",\n",
    "            n_positions=1024,\n",
    "            resid_pdrop=0.1,\n",
    "            attn_pdrop=0.1,\n",
    "            stochastic_policy=True,\n",
    "            ordering=0,\n",
    "            init_temperature=0.1,\n",
    "            target_entropy=self.target_entropy\n",
    "        ).to(device=self.device)"
   ]
  },
  {
   "cell_type": "code",
   "execution_count": 14,
   "id": "1e26e20b-4f6c-4dc3-8b8c-69fc1eecf2c5",
   "metadata": {},
   "outputs": [
    {
     "data": {
      "text/plain": [
       "DecisionTransformer(\n",
       "  (transformer): GPT2Model(\n",
       "    (wte): Embedding(1, 128)\n",
       "    (drop): Dropout(p=0.1, inplace=False)\n",
       "    (h): ModuleList(\n",
       "      (0-3): 4 x Block(\n",
       "        (ln_1): LayerNorm((128,), eps=1e-05, elementwise_affine=True)\n",
       "        (attn): Attention(\n",
       "          (c_attn): Conv1D()\n",
       "          (c_proj): Conv1D()\n",
       "          (attn_dropout): Dropout(p=0.1, inplace=False)\n",
       "          (resid_dropout): Dropout(p=0.1, inplace=False)\n",
       "        )\n",
       "        (ln_2): LayerNorm((128,), eps=1e-05, elementwise_affine=True)\n",
       "        (mlp): MLP(\n",
       "          (c_fc): Conv1D()\n",
       "          (c_proj): Conv1D()\n",
       "          (act): ReLU()\n",
       "          (dropout): Dropout(p=0.1, inplace=False)\n",
       "        )\n",
       "      )\n",
       "    )\n",
       "    (ln_f): LayerNorm((128,), eps=1e-05, elementwise_affine=True)\n",
       "  )\n",
       "  (embed_timestep): Embedding(8760, 128)\n",
       "  (embed_return): Linear(in_features=1, out_features=128, bias=True)\n",
       "  (embed_state): Linear(in_features=44, out_features=128, bias=True)\n",
       "  (embed_action): Linear(in_features=5, out_features=128, bias=True)\n",
       "  (embed_ln): LayerNorm((128,), eps=1e-05, elementwise_affine=True)\n",
       "  (predict_state): Linear(in_features=128, out_features=44, bias=True)\n",
       "  (predict_return): Linear(in_features=128, out_features=1, bias=True)\n",
       "  (predict_action): DiagGaussianActor(\n",
       "    (mu): Linear(in_features=128, out_features=5, bias=True)\n",
       "    (log_std): Linear(in_features=128, out_features=5, bias=True)\n",
       "  )\n",
       ")"
      ]
     },
     "execution_count": 14,
     "metadata": {},
     "output_type": "execute_result"
    }
   ],
   "source": [
    "self.model"
   ]
  },
  {
   "cell_type": "code",
   "execution_count": 15,
   "id": "30e61540-8583-4ee6-9518-be21d2aff316",
   "metadata": {},
   "outputs": [],
   "source": [
    "dataloader = create_dataloader(\n",
    "                trajectories=self.replay_buffer.trajectories,\n",
    "                num_iters=1,\n",
    "                batch_size=5,\n",
    "                max_len=24,\n",
    "                state_dim=self.state_dim,\n",
    "                act_dim=self.act_dim,\n",
    "                state_mean=self.state_mean,\n",
    "                state_std=self.state_std,\n",
    "                reward_scale=1,\n",
    "                action_range=self.action_range,\n",
    "            )"
   ]
  },
  {
   "cell_type": "code",
   "execution_count": 16,
   "id": "7f240b0b-f45b-4cdb-bee1-4a856fc3720e",
   "metadata": {},
   "outputs": [],
   "source": [
    "for _, trajs in enumerate(dataloader):\n",
    "    break"
   ]
  },
  {
   "cell_type": "code",
   "execution_count": 17,
   "id": "1b89c1c4-7e0d-46b1-b12b-b19f582cd6df",
   "metadata": {},
   "outputs": [],
   "source": [
    "(\n",
    "            states,\n",
    "            actions,\n",
    "            rewards,\n",
    "            dones,\n",
    "            rtg,\n",
    "            timesteps,\n",
    "            ordering,\n",
    "            padding_mask,\n",
    "        ) = trajs"
   ]
  },
  {
   "cell_type": "code",
   "execution_count": 18,
   "id": "a1928d1a-75fc-457b-960c-ceb153b3fff3",
   "metadata": {},
   "outputs": [],
   "source": [
    "states = states.to(self.device)\n",
    "actions = actions.to(self.device)\n",
    "rewards = rewards.to(self.device)\n",
    "dones = dones.to(self.device)\n",
    "rtg = rtg.to(self.device)\n",
    "timesteps = timesteps.to(self.device)\n",
    "ordering = ordering.to(self.device)\n",
    "padding_mask = padding_mask.to(self.device)"
   ]
  },
  {
   "cell_type": "code",
   "execution_count": 19,
   "id": "9ee04b1a-7f62-48af-89dc-4220facbf820",
   "metadata": {},
   "outputs": [],
   "source": [
    " action_target = torch.clone(actions)"
   ]
  },
  {
   "cell_type": "code",
   "execution_count": 20,
   "id": "382571aa-8c8a-4afc-a44e-8f7a18cab73c",
   "metadata": {},
   "outputs": [],
   "source": [
    "batch_size, seq_length = states.shape[0], states.shape[1]"
   ]
  },
  {
   "cell_type": "code",
   "execution_count": 21,
   "id": "d91f1422-50be-4415-b6d1-f2da3b18f077",
   "metadata": {},
   "outputs": [],
   "source": [
    "state_embeddings = self.model.embed_state(states)\n",
    "action_embeddings = self.model.embed_action(actions)\n",
    "returns_embeddings = self.model.embed_return(rtg[:,:-1])"
   ]
  },
  {
   "cell_type": "code",
   "execution_count": 22,
   "id": "00384a11-ac19-4639-bbde-50f82446f947",
   "metadata": {},
   "outputs": [],
   "source": [
    " stacked_inputs = (\n",
    "            torch.stack(\n",
    "                (returns_embeddings, state_embeddings, action_embeddings), dim=1\n",
    "            )\n",
    "            .permute(0, 2, 1, 3)\n",
    "            .reshape(batch_size, 3 * seq_length, 128)\n",
    "        )"
   ]
  },
  {
   "cell_type": "code",
   "execution_count": 23,
   "id": "1841c46e-ba51-4770-83af-79f17fa284df",
   "metadata": {},
   "outputs": [],
   "source": [
    "stacked_inputs = self.model.embed_ln(stacked_inputs)"
   ]
  },
  {
   "cell_type": "code",
   "execution_count": 24,
   "id": "00312be1-575a-426c-8d6f-40171eb1bc8d",
   "metadata": {},
   "outputs": [],
   "source": [
    "stacked_padding_mask = (\n",
    "            torch.stack((padding_mask, padding_mask, padding_mask), dim=1)\n",
    "            .permute(0, 2, 1)\n",
    "            .reshape(batch_size, 3 * seq_length))\n",
    "        "
   ]
  },
  {
   "cell_type": "code",
   "execution_count": 25,
   "id": "17f20680-5476-4ccf-a8d6-423aec65f31c",
   "metadata": {},
   "outputs": [],
   "source": [
    "transformer_outputs = self.model.transformer(\n",
    "            inputs_embeds=stacked_inputs,\n",
    "            attention_mask=stacked_padding_mask,\n",
    "        )"
   ]
  },
  {
   "cell_type": "code",
   "execution_count": 26,
   "id": "c06a92d1-3044-405c-9ee8-a69853c14980",
   "metadata": {},
   "outputs": [],
   "source": [
    "x = transformer_outputs[\"last_hidden_state\"]"
   ]
  },
  {
   "cell_type": "code",
   "execution_count": 27,
   "id": "173ee16d-8d53-49c7-9049-2bb8ca95f3c6",
   "metadata": {},
   "outputs": [
    {
     "data": {
      "text/plain": [
       "torch.Size([5, 72, 128])"
      ]
     },
     "execution_count": 27,
     "metadata": {},
     "output_type": "execute_result"
    }
   ],
   "source": [
    "x.shape"
   ]
  },
  {
   "cell_type": "code",
   "execution_count": 28,
   "id": "d026687f-efc2-41e9-bae5-9888f40c914d",
   "metadata": {},
   "outputs": [],
   "source": [
    " x = x.reshape(batch_size, seq_length, 3, self.hidden_size).permute(0, 2, 1, 3)"
   ]
  },
  {
   "cell_type": "code",
   "execution_count": 29,
   "id": "12ef0781-86b5-4b93-af87-8efa73f656ea",
   "metadata": {},
   "outputs": [
    {
     "data": {
      "text/plain": [
       "torch.Size([5, 3, 24, 128])"
      ]
     },
     "execution_count": 29,
     "metadata": {},
     "output_type": "execute_result"
    }
   ],
   "source": [
    "x.shape"
   ]
  },
  {
   "cell_type": "code",
   "execution_count": 30,
   "id": "c71a31f4-5be7-496e-a1cb-a8486f37501a",
   "metadata": {},
   "outputs": [],
   "source": [
    "obs = x[:2,1]"
   ]
  },
  {
   "cell_type": "code",
   "execution_count": 31,
   "id": "adc599b0-2188-47de-88c4-536e093b9893",
   "metadata": {},
   "outputs": [],
   "source": [
    "mu = self.model.predict_action.mu\n",
    "log_std = self.model.predict_action.log_std"
   ]
  },
  {
   "cell_type": "code",
   "execution_count": 32,
   "id": "a1e6dae9-18ae-4ee7-b232-9cf8122436a0",
   "metadata": {},
   "outputs": [
    {
     "data": {
      "text/plain": [
       "torch.Size([2, 24, 5])"
      ]
     },
     "execution_count": 32,
     "metadata": {},
     "output_type": "execute_result"
    }
   ],
   "source": [
    "mu(obs).shape"
   ]
  },
  {
   "cell_type": "code",
   "execution_count": 33,
   "id": "4ebae6e2-1e56-4884-9daa-8c5c8769ca0f",
   "metadata": {},
   "outputs": [],
   "source": [
    "log_std_value = log_std(obs)"
   ]
  },
  {
   "cell_type": "code",
   "execution_count": 34,
   "id": "d9d4647c-8582-4ddf-8a13-5b0a0c4f1d0c",
   "metadata": {},
   "outputs": [],
   "source": [
    "log_std_value =torch.tanh(log_std_value)"
   ]
  },
  {
   "cell_type": "code",
   "execution_count": 35,
   "id": "ed647b4d-797c-473d-8cfe-140edde115c1",
   "metadata": {},
   "outputs": [],
   "source": [
    "log_std_value = -5 + 0.5 * ( 2+5) * (log_std_value + 1.0)"
   ]
  },
  {
   "cell_type": "code",
   "execution_count": 36,
   "id": "46d8cd2d-b9d9-45f1-97e8-4c3294bcf8c7",
   "metadata": {},
   "outputs": [
    {
     "data": {
      "text/plain": [
       "tensor([[[-4.2135, -1.5096,  0.7595,  1.1019, -4.8030],\n",
       "         [-3.7985, -2.5322,  0.7998,  1.0861, -4.8592],\n",
       "         [-0.7107, -0.5761, -2.4865,  1.9491, -4.9023],\n",
       "         [-2.4309,  0.1735, -1.4862,  1.8832, -4.8955],\n",
       "         [-3.1793, -0.9195, -2.8907,  1.8128, -4.6282],\n",
       "         [-4.3208, -4.1807,  0.1157,  1.7410, -4.6475],\n",
       "         [-1.7800, -3.4887, -3.2359,  1.7778, -3.7161],\n",
       "         [-1.5694, -0.3423, -2.6794,  1.7414, -1.5202],\n",
       "         [-2.8993, -2.3043, -2.8093,  1.3998,  0.5747],\n",
       "         [-2.2674,  0.8658, -1.9412,  1.3005,  1.8644],\n",
       "         [-1.8614,  1.3975,  0.2215,  0.9881,  1.9915],\n",
       "         [-3.1421,  1.2216,  0.4573,  0.9900,  1.9701],\n",
       "         [-4.6316,  0.0944, -1.4257,  1.5216,  1.9653],\n",
       "         [-1.2349, -0.9062, -0.6095, -2.0113,  1.9776],\n",
       "         [-2.7881, -4.7663, -3.0684, -1.7930,  1.7036],\n",
       "         [-2.7294, -4.4635,  0.9977, -3.5374,  1.7071],\n",
       "         [-3.9878, -4.9638, -0.7214, -4.2776,  0.0521],\n",
       "         [-1.9462, -4.9561, -1.3666, -4.4663, -4.4570],\n",
       "         [-4.1450, -4.9455, -0.7054, -4.5804, -4.4092],\n",
       "         [-4.4533, -4.8322,  0.3557, -3.4779, -4.5937],\n",
       "         [-4.4200, -4.9784, -4.2794, -3.6336, -4.8547],\n",
       "         [-4.1863, -4.2533,  1.1175, -4.6608, -4.0311],\n",
       "         [-4.1427, -0.8872, -0.6653, -3.4467, -0.3653],\n",
       "         [-4.3745, -4.1514,  1.1854, -2.3882, -4.1597]],\n",
       "\n",
       "        [[-4.4594, -1.0114, -2.5086, -4.5249, -3.4302],\n",
       "         [-3.7613, -1.7294,  1.0371, -4.2009, -0.9512],\n",
       "         [-3.2662, -3.2873,  0.4796, -3.4692,  0.3093],\n",
       "         [-0.4925,  0.6436,  1.0442, -2.9279,  1.8291],\n",
       "         [-4.1369,  1.3604, -3.5770, -4.3241, -3.6574],\n",
       "         [-4.7753,  1.9096, -4.0589,  1.3862, -4.6297],\n",
       "         [-1.7772,  1.0854, -4.5564,  1.6972, -2.8720],\n",
       "         [-3.0837,  1.3980, -2.9104,  0.5622, -0.5500],\n",
       "         [-2.3940,  0.7747, -4.5143,  1.4212, -0.7116],\n",
       "         [-3.4991,  0.2557, -3.1713,  1.0566, -0.2516],\n",
       "         [-3.7573,  1.9057, -3.5007,  1.7166, -4.3681],\n",
       "         [-2.0371,  1.9623, -3.2976,  1.3583,  0.1204],\n",
       "         [-2.0779,  1.9890, -2.6844,  0.4835,  1.7959],\n",
       "         [ 0.2019,  1.9437, -4.0149, -1.7463,  1.5278],\n",
       "         [-0.1058,  1.9383, -3.3555, -0.9349,  1.9313],\n",
       "         [-2.1707,  1.9462, -3.4673, -2.4921,  1.9442],\n",
       "         [-3.0972,  1.7553, -4.5682, -1.3696,  1.9454],\n",
       "         [-4.3957,  0.9209, -4.0010, -1.4927,  1.8367],\n",
       "         [-3.8199, -1.5090, -0.9362, -3.3092,  1.7153],\n",
       "         [-3.6708,  0.4142, -0.4468, -3.2583,  1.7396],\n",
       "         [-4.0339, -2.3589,  0.2768, -3.1950,  1.3741],\n",
       "         [-4.3758, -3.3329,  0.1501, -3.3913, -0.2149],\n",
       "         [-3.5620, -2.8959, -2.3105, -4.1258, -4.2657],\n",
       "         [-3.1781, -4.1766, -1.2126, -4.4325, -4.6736]]], device='cuda:0',\n",
       "       grad_fn=<AddBackward0>)"
      ]
     },
     "execution_count": 36,
     "metadata": {},
     "output_type": "execute_result"
    }
   ],
   "source": [
    "log_std_value"
   ]
  },
  {
   "cell_type": "code",
   "execution_count": 37,
   "id": "c05acdd6-9bb9-4442-81f4-8fbdd877935c",
   "metadata": {},
   "outputs": [],
   "source": [
    "std = log_std_value.exp()"
   ]
  },
  {
   "cell_type": "code",
   "execution_count": 38,
   "id": "82b5a690-179c-4e5a-a05c-e77ab2a70035",
   "metadata": {},
   "outputs": [
    {
     "data": {
      "text/plain": [
       "tensor([[[1.4794e-02, 2.2099e-01, 2.1372e+00, 3.0099e+00, 8.2052e-03],\n",
       "         [2.2405e-02, 7.9488e-02, 2.2251e+00, 2.9626e+00, 7.7570e-03],\n",
       "         [4.9132e-01, 5.6211e-01, 8.3202e-02, 7.0220e+00, 7.4294e-03],\n",
       "         [8.7953e-02, 1.1895e+00, 2.2624e-01, 6.5744e+00, 7.4803e-03],\n",
       "         [4.1614e-02, 3.9871e-01, 5.5539e-02, 6.1278e+00, 9.7723e-03],\n",
       "         [1.3290e-02, 1.5288e-02, 1.1226e+00, 5.7033e+00, 9.5857e-03],\n",
       "         [1.6864e-01, 3.0541e-02, 3.9324e-02, 5.9170e+00, 2.4330e-02],\n",
       "         [2.0817e-01, 7.1011e-01, 6.8607e-02, 5.7051e+00, 2.1866e-01],\n",
       "         [5.5060e-02, 9.9825e-02, 6.0248e-02, 4.0544e+00, 1.7766e+00],\n",
       "         [1.0358e-01, 2.3769e+00, 1.4353e-01, 3.6712e+00, 6.4518e+00],\n",
       "         [1.5546e-01, 4.0451e+00, 1.2480e+00, 2.6862e+00, 7.3265e+00],\n",
       "         [4.3191e-02, 3.3928e+00, 1.5798e+00, 2.6914e+00, 7.1712e+00],\n",
       "         [9.7391e-03, 1.0990e+00, 2.4033e-01, 4.5795e+00, 7.1369e+00],\n",
       "         [2.9087e-01, 4.0404e-01, 5.4364e-01, 1.3382e-01, 7.2252e+00],\n",
       "         [6.1535e-02, 8.5121e-03, 4.6497e-02, 1.6647e-01, 5.4937e+00],\n",
       "         [6.5261e-02, 1.1522e-02, 2.7120e+00, 2.9089e-02, 5.5131e+00],\n",
       "         [1.8540e-02, 6.9861e-03, 4.8607e-01, 1.3875e-02, 1.0535e+00],\n",
       "         [1.4282e-01, 7.0402e-03, 2.5497e-01, 1.1489e-02, 1.1597e-02],\n",
       "         [1.5844e-02, 7.1156e-03, 4.9393e-01, 1.0251e-02, 1.2165e-02],\n",
       "         [1.1640e-02, 7.9687e-03, 1.4272e+00, 3.0871e-02, 1.0115e-02],\n",
       "         [1.2034e-02, 6.8853e-03, 1.3850e-02, 2.6420e-02, 7.7919e-03],\n",
       "         [1.5202e-02, 1.4217e-02, 3.0572e+00, 9.4590e-03, 1.7754e-02],\n",
       "         [1.5881e-02, 4.1182e-01, 5.1413e-01, 3.1851e-02, 6.9399e-01],\n",
       "         [1.2594e-02, 1.5742e-02, 3.2721e+00, 9.1792e-02, 1.5613e-02]],\n",
       "\n",
       "        [[1.1569e-02, 3.6370e-01, 8.1384e-02, 1.0836e-02, 3.2379e-02],\n",
       "         [2.3254e-02, 1.7738e-01, 2.8211e+00, 1.4983e-02, 3.8629e-01],\n",
       "         [3.8149e-02, 3.7355e-02, 1.6155e+00, 3.1143e-02, 1.3625e+00],\n",
       "         [6.1109e-01, 1.9033e+00, 2.8410e+00, 5.3511e-02, 6.2285e+00],\n",
       "         [1.5973e-02, 3.8977e+00, 2.7959e-02, 1.3246e-02, 2.5799e-02],\n",
       "         [8.4352e-03, 6.7502e+00, 1.7268e-02, 3.9998e+00, 9.7579e-03],\n",
       "         [1.6912e-01, 2.9608e+00, 1.0500e-02, 5.4585e+00, 5.6584e-02],\n",
       "         [4.5789e-02, 4.0471e+00, 5.4452e-02, 1.7545e+00, 5.7692e-01],\n",
       "         [9.1263e-02, 2.1700e+00, 1.0951e-02, 4.1419e+00, 4.9087e-01],\n",
       "         [3.0226e-02, 1.2914e+00, 4.1947e-02, 2.8767e+00, 7.7752e-01],\n",
       "         [2.3348e-02, 6.7243e+00, 3.0177e-02, 5.5655e+00, 1.2675e-02],\n",
       "         [1.3040e-01, 7.1156e+00, 3.6973e-02, 3.8897e+00, 1.1279e+00],\n",
       "         [1.2520e-01, 7.3082e+00, 6.8264e-02, 1.6217e+00, 6.0248e+00],\n",
       "         [1.2237e+00, 6.9849e+00, 1.8045e-02, 1.7442e-01, 4.6081e+00],\n",
       "         [8.9958e-01, 6.9469e+00, 3.4891e-02, 3.9264e-01, 6.8982e+00],\n",
       "         [1.1410e-01, 7.0022e+00, 3.1201e-02, 8.2738e-02, 6.9877e+00],\n",
       "         [4.5177e-02, 5.7853e+00, 1.0376e-02, 2.5421e-01, 6.9965e+00],\n",
       "         [1.2330e-02, 2.5116e+00, 1.8297e-02, 2.2476e-01, 6.2760e+00],\n",
       "         [2.1930e-02, 2.2113e-01, 3.9213e-01, 3.6544e-02, 5.5586e+00],\n",
       "         [2.5457e-02, 1.5131e+00, 6.3968e-01, 3.8455e-02, 5.6951e+00],\n",
       "         [1.7705e-02, 9.4524e-02, 1.3189e+00, 4.0967e-02, 3.9516e+00],\n",
       "         [1.2579e-02, 3.5690e-02, 1.1620e+00, 3.3666e-02, 8.0663e-01],\n",
       "         [2.8383e-02, 5.5248e-02, 9.9215e-02, 1.6151e-02, 1.4043e-02],\n",
       "         [4.1664e-02, 1.5351e-02, 2.9744e-01, 1.1885e-02, 9.3389e-03]]],\n",
       "       device='cuda:0', grad_fn=<ExpBackward0>)"
      ]
     },
     "execution_count": 38,
     "metadata": {},
     "output_type": "execute_result"
    }
   ],
   "source": [
    "std"
   ]
  },
  {
   "cell_type": "code",
   "execution_count": 39,
   "id": "ac8e9dab-11b1-4324-a851-b70e27411dcd",
   "metadata": {},
   "outputs": [],
   "source": [
    "self.loc = mu "
   ]
  },
  {
   "cell_type": "code",
   "execution_count": 40,
   "id": "7f17454e-4365-476b-b386-d69906f33076",
   "metadata": {},
   "outputs": [],
   "source": [
    "self.std = std"
   ]
  },
  {
   "cell_type": "code",
   "execution_count": 41,
   "id": "9ac8a9b5-d67f-4389-909c-f960a6375c73",
   "metadata": {},
   "outputs": [],
   "source": [
    "from torch import distributions as pyd\n",
    "import math\n",
    "import torch.nn.functional as F\n",
    "class SquashedNormal(pyd.transformed_distribution.TransformedDistribution):\n",
    "    \"\"\"\n",
    "    Squashed Normal Distribution(s)\n",
    "\n",
    "    If loc/std is of size (batch_size, sequence length, d),\n",
    "    this returns batch_size * sequence length * d\n",
    "    independent squashed univariate normal distributions.\n",
    "    \"\"\"\n",
    "\n",
    "    def __init__(self, loc, std):\n",
    "        self.loc = loc\n",
    "        self.std = std\n",
    "\n",
    "       \n",
    "        self.base_dist = pyd.Normal(loc, std)\n",
    "\n",
    "        transforms = [TanhTransform()]\n",
    "        super().__init__(self.base_dist, transforms)\n",
    "\n",
    "    @property\n",
    "    def mean(self):\n",
    "        mu = self.loc\n",
    "        for tr in self.transforms:\n",
    "            mu = tr(mu)\n",
    "        return mu\n",
    "\n",
    "    def entropy(self, N=1):\n",
    "        # sample from the distribution and then compute\n",
    "        # the empirical entropy:\n",
    "        x = self.rsample((N,))\n",
    "        #print(x)\n",
    "        log_p = self.log_prob(x)\n",
    "        #print(log_p)\n",
    "        # log_p: (batch_size, context_len, action_dim),\n",
    "        return -log_p.mean(axis=0).sum(axis=2)\n",
    "\n",
    "    def log_likelihood(self, x):\n",
    "        # log_prob(x): (batch_size, context_len, action_dim)\n",
    "        # sum up along the action dimensions\n",
    "        # Return tensor shape: (batch_size, context_len)\n",
    "        print(self.log_prob(x).sum(axis=2))\n",
    "        return self.log_prob(x).sum(axis=2)"
   ]
  },
  {
   "cell_type": "code",
   "execution_count": 42,
   "id": "c0b18d77-f7db-49d5-9af3-facf40a49e91",
   "metadata": {},
   "outputs": [],
   "source": [
    "class TanhTransform(pyd.transforms.Transform):\n",
    "    domain = pyd.constraints.real\n",
    "    codomain = pyd.constraints.interval(-1.0, 1.0)\n",
    "    bijective = True\n",
    "    sign = +1\n",
    "\n",
    "    def __init__(self, cache_size=1):\n",
    "        super().__init__(cache_size=cache_size)\n",
    "\n",
    "    @staticmethod\n",
    "    def atanh(x):\n",
    "        return 0.5 * (x.log1p() - (-x).log1p())\n",
    "\n",
    "    def __eq__(self, other):\n",
    "        return isinstance(other, TanhTransform)\n",
    "\n",
    "    def _call(self, x):\n",
    "        return x.tanh()\n",
    "\n",
    "    def _inverse(self, y):\n",
    "        # We do not clamp to the boundary here as it may degrade the performance of certain algorithms.\n",
    "        # one should use `cache_size=1` instead\n",
    "        return self.atanh(y)\n",
    "\n",
    "    def log_abs_det_jacobian(self, x, y):\n",
    "        # We use a formula that is more numerically stable, see details in the following link\n",
    "        # https://github.com/tensorflow/probability/commit/ef6bb176e0ebd1cf6e25c6b5cecdd2428c22963f#diff-e120f70e92e6741bca649f04fcd907b7\n",
    "        return 2.0 * (math.log(2.0) - x - F.softplus(-2.0 * x))"
   ]
  },
  {
   "cell_type": "code",
   "execution_count": 43,
   "id": "a58bd857-a750-4097-ae25-45ca3ce6298b",
   "metadata": {},
   "outputs": [],
   "source": [
    "sn = SquashedNormal(mu(obs), std)"
   ]
  },
  {
   "cell_type": "code",
   "execution_count": 288,
   "id": "57275da7-777a-415d-be7a-51c6f1473e82",
   "metadata": {},
   "outputs": [],
   "source": [
    "x = sn.rsample((1,))\n"
   ]
  },
  {
   "cell_type": "code",
   "execution_count": 289,
   "id": "fe84a0a2-0827-4d12-930c-294be98e2409",
   "metadata": {},
   "outputs": [
    {
     "name": "stdout",
     "output_type": "stream",
     "text": [
      "tensor([ 0.3696, -0.5529, -0.4020,  0.5891,  0.9422], device='cuda:0',\n",
      "       grad_fn=<SelectBackward0>)\n"
     ]
    }
   ],
   "source": [
    "print(x[0][0][0])"
   ]
  },
  {
   "cell_type": "code",
   "execution_count": 290,
   "id": "ab92d3c6-ef9f-4b08-9f1a-1fca78f84250",
   "metadata": {},
   "outputs": [],
   "source": [
    "y = x.clone()"
   ]
  },
  {
   "cell_type": "code",
   "execution_count": 291,
   "id": "36b8b05e-3fe2-4088-be7b-d3022c403e52",
   "metadata": {},
   "outputs": [],
   "source": [
    "y[0][0][0] = 0.38"
   ]
  },
  {
   "cell_type": "code",
   "execution_count": 292,
   "id": "29c0ec30-aba9-4dc9-afb1-adf6216469fd",
   "metadata": {},
   "outputs": [
    {
     "data": {
      "text/plain": [
       "tensor([[[[ 0.3696, -0.5529, -0.4020,  0.5891,  0.9422],\n",
       "          [ 0.4523, -0.3470,  0.9783, -0.9387,  0.9063],\n",
       "          [ 0.9266,  0.7319, -0.4236, -1.0000,  0.8482],\n",
       "          [ 0.9697,  0.9960, -0.7295,  0.9943,  0.9371],\n",
       "          [ 0.9746,  0.6204, -0.7538,  1.0000,  0.6587],\n",
       "          [ 0.7566,  0.7022, -0.5542,  0.9875,  0.7242],\n",
       "          [ 0.9698,  0.7633, -0.7236, -0.7452,  0.7376],\n",
       "          [ 0.7890,  0.6245, -0.7072,  0.5435,  0.7598],\n",
       "          [ 0.7638,  0.9291, -0.9154,  0.9243,  0.8878],\n",
       "          [ 0.7102, -0.9881, -0.6016,  0.9994,  1.0000],\n",
       "          [ 0.4932, -0.9985, -0.9041, -0.0243, -1.0000],\n",
       "          [ 0.1368,  0.0087, -0.3986,  0.9746, -1.0000],\n",
       "          [ 0.2831, -0.9772, -0.7961, -0.9927,  0.9879],\n",
       "          [-0.4609, -0.2340, -0.8441,  0.6786, -1.0000],\n",
       "          [-0.7104,  0.4236, -0.8782,  0.8807, -0.9971],\n",
       "          [-0.9444,  0.6906,  0.9201,  0.5492, -1.0000],\n",
       "          [-0.9473,  0.9313, -0.7825,  0.8693, -0.8489],\n",
       "          [-0.8486,  0.6119, -0.9547,  0.9431, -0.8879],\n",
       "          [-0.9251,  0.6004, -0.6698,  0.9248, -0.8681],\n",
       "          [-0.9535,  0.1912, -0.9940,  0.7780, -0.8740],\n",
       "          [-0.9450,  0.6506, -0.9364,  0.5000, -0.2435],\n",
       "          [-0.6824,  0.3414, -0.2027, -0.6974,  0.7324],\n",
       "          [ 0.2860,  0.0300, -0.6827, -0.3686,  0.1510],\n",
       "          [ 0.1646,  0.7038, -0.9358, -0.5854,  0.8271]],\n",
       "\n",
       "         [[-0.2552,  0.4674,  0.4120, -0.3085, -0.1412],\n",
       "          [-0.8672,  0.5937, -0.9974, -0.2552,  0.5332],\n",
       "          [-0.6851,  0.7375, -0.6232, -0.7497,  0.9361],\n",
       "          [-0.7330, -0.4675, -0.9906, -0.6169,  0.9969],\n",
       "          [-0.1985,  0.9314,  0.8765, -0.9176,  0.9060],\n",
       "          [ 0.6947, -0.4506,  0.9297, -0.9999,  0.1765],\n",
       "          [ 0.8686,  0.9999,  0.8429,  0.9979, -0.0562],\n",
       "          [ 0.9359,  1.0000, -0.0085,  0.9748,  0.7574],\n",
       "          [ 0.8521,  0.4028,  0.6573,  0.9950, -0.7841],\n",
       "          [ 0.6660, -0.4325,  0.2829,  0.9996, -0.7148],\n",
       "          [ 0.9417, -1.0000,  0.7807, -0.2401, -0.2047],\n",
       "          [ 0.9897, -1.0000,  0.3691, -0.8994,  0.4448],\n",
       "          [ 0.9326, -1.0000,  0.4081, -0.9725, -0.9684],\n",
       "          [ 0.9895, -0.9946,  0.8369, -0.5665, -0.9476],\n",
       "          [ 0.7919,  0.9988,  0.1243, -0.3146,  0.9852],\n",
       "          [ 0.3403,  0.9997,  0.6201,  0.1335, -1.0000],\n",
       "          [ 0.3952,  1.0000,  0.8786,  0.4879,  0.3860],\n",
       "          [ 0.4588, -0.4357,  0.3707,  0.6020, -0.9983],\n",
       "          [-0.8228,  0.5447,  0.6309,  0.5566,  0.2498],\n",
       "          [-0.6345,  0.6234,  0.3834,  0.8486, -1.0000],\n",
       "          [-0.8125,  0.7541, -0.8927,  0.8231,  0.9997],\n",
       "          [-0.9209,  0.2572,  0.9826,  0.2887, -0.5343],\n",
       "          [-0.8792, -0.4986, -0.0901, -0.1708, -0.9021],\n",
       "          [-0.8911,  0.1994, -0.0698,  0.2342, -0.6126]]]], device='cuda:0',\n",
       "       grad_fn=<TanhBackward0>)"
      ]
     },
     "execution_count": 292,
     "metadata": {},
     "output_type": "execute_result"
    }
   ],
   "source": [
    "x"
   ]
  },
  {
   "cell_type": "code",
   "execution_count": 293,
   "id": "354dbcf6-c991-4a06-a433-3719463d6324",
   "metadata": {},
   "outputs": [
    {
     "data": {
      "text/plain": [
       "Normal(loc: torch.Size([2, 24, 5]), scale: torch.Size([2, 24, 5]))"
      ]
     },
     "execution_count": 293,
     "metadata": {},
     "output_type": "execute_result"
    }
   ],
   "source": [
    "sn.base_dist"
   ]
  },
  {
   "cell_type": "code",
   "execution_count": 294,
   "id": "bacd7b28-f1c1-401e-8e81-1ef02ebd0e33",
   "metadata": {},
   "outputs": [],
   "source": [
    "log_p = sn.log_prob(y)"
   ]
  },
  {
   "cell_type": "code",
   "execution_count": 295,
   "id": "20b7955a-f021-443a-8bcf-fb065cdcd47e",
   "metadata": {},
   "outputs": [
    {
     "data": {
      "text/plain": [
       "tensor([[ 2.6376e+00, -9.2048e+00, -1.5225e+00, -2.0680e+00, -1.3627e+04],\n",
       "        [ 3.1035e+00,  1.2642e+00,  1.3576e+00,  8.7902e-02,  4.2187e+00],\n",
       "        [ 1.3502e+00,  2.8447e-01,  1.7630e+00,         nan,  4.9361e+00],\n",
       "        [ 4.2751e+00,  1.4729e+00,  9.5949e-01,  1.6012e+00,  5.4260e+00],\n",
       "        [ 4.3864e+00,  2.7942e-01,  1.8982e+00,         nan,  3.7978e+00],\n",
       "        [ 4.0901e+00,  3.5447e+00, -9.9325e-01,  1.0112e+00,  4.0922e+00],\n",
       "        [ 3.2416e+00,  3.3114e+00,  1.2673e+00, -1.9263e+00,  1.9340e+00],\n",
       "        [ 1.6189e+00, -1.3587e-01,  2.4493e+00, -2.3107e+00,  1.2027e+00],\n",
       "        [ 2.4819e+00,  3.3743e+00,  3.0600e+00, -4.1837e-01,  5.1227e-02],\n",
       "        [ 2.0409e+00,  1.1078e+00,  1.4024e+00,  3.8307e+00,  6.7176e+00],\n",
       "        [ 1.1630e+00,  2.7945e+00,  5.4040e-01, -1.9104e+00,         nan],\n",
       "        [ 2.1443e+00, -2.1978e+00, -1.2182e+00,  7.9319e-01,  6.6761e+00],\n",
       "        [ 3.6162e+00, -9.0543e-01,  1.4278e+00,  1.4417e+00,  8.3017e-01],\n",
       "        [-9.0522e-01, -1.6464e-01,  9.3084e-01,  1.6787e+00,  9.3153e+00],\n",
       "        [ 8.9661e-01,  4.0399e+00,  3.5683e+00,  2.1793e+00,  2.4268e+00],\n",
       "        [ 3.6158e+00,  4.1416e+00, -5.0064e-01,  2.8870e+00,         nan],\n",
       "        [ 5.1373e+00,  5.8833e+00,  4.9157e-01,  4.7522e+00,  1.7998e-01],\n",
       "        [ 2.1145e+00,  4.2948e+00,  2.8227e+00,  4.0075e+00,  5.0776e+00],\n",
       "        [ 5.1571e+00,  4.2357e+00,  1.3418e-01,  5.4047e+00,  4.8901e+00],\n",
       "        [ 4.3322e+00,  3.4175e+00,  2.7056e+00,  1.6352e+00,  4.7020e+00],\n",
       "        [ 5.2296e+00,  4.5631e+00,  4.6269e+00,  2.0063e+00,  3.7221e+00],\n",
       "        [ 3.5847e+00,  3.4573e+00, -2.0334e+00,  3.6904e+00,  3.8020e+00],\n",
       "        [ 2.8532e+00, -2.0033e+00,  3.4404e-01,  2.6619e+00, -6.2622e-01],\n",
       "        [ 2.2089e+00,  1.5326e+00, -3.1300e-02,  1.8888e+00,  4.2334e+00]],\n",
       "       device='cuda:0', grad_fn=<SelectBackward0>)"
      ]
     },
     "execution_count": 295,
     "metadata": {},
     "output_type": "execute_result"
    }
   ],
   "source": [
    "log_p[0][0]"
   ]
  },
  {
   "cell_type": "code",
   "execution_count": 254,
   "id": "df5af4e8-ebb3-41cd-ae4b-90698f5c941d",
   "metadata": {},
   "outputs": [
    {
     "data": {
      "text/plain": [
       "tensor([[1.4794e-02, 2.2099e-01, 2.1372e+00, 3.0099e+00, 8.2052e-03],\n",
       "        [2.2405e-02, 7.9488e-02, 2.2251e+00, 2.9626e+00, 7.7570e-03],\n",
       "        [4.9132e-01, 5.6211e-01, 8.3202e-02, 7.0220e+00, 7.4294e-03],\n",
       "        [8.7953e-02, 1.1895e+00, 2.2624e-01, 6.5744e+00, 7.4803e-03],\n",
       "        [4.1614e-02, 3.9871e-01, 5.5539e-02, 6.1278e+00, 9.7723e-03],\n",
       "        [1.3290e-02, 1.5288e-02, 1.1226e+00, 5.7033e+00, 9.5857e-03],\n",
       "        [1.6864e-01, 3.0541e-02, 3.9324e-02, 5.9170e+00, 2.4330e-02],\n",
       "        [2.0817e-01, 7.1011e-01, 6.8607e-02, 5.7051e+00, 2.1866e-01],\n",
       "        [5.5060e-02, 9.9825e-02, 6.0248e-02, 4.0544e+00, 1.7766e+00],\n",
       "        [1.0358e-01, 2.3769e+00, 1.4353e-01, 3.6712e+00, 6.4518e+00],\n",
       "        [1.5546e-01, 4.0451e+00, 1.2480e+00, 2.6862e+00, 7.3265e+00],\n",
       "        [4.3191e-02, 3.3928e+00, 1.5798e+00, 2.6914e+00, 7.1712e+00],\n",
       "        [9.7391e-03, 1.0990e+00, 2.4033e-01, 4.5795e+00, 7.1369e+00],\n",
       "        [2.9087e-01, 4.0404e-01, 5.4364e-01, 1.3382e-01, 7.2252e+00],\n",
       "        [6.1535e-02, 8.5121e-03, 4.6497e-02, 1.6647e-01, 5.4937e+00],\n",
       "        [6.5261e-02, 1.1522e-02, 2.7120e+00, 2.9089e-02, 5.5131e+00],\n",
       "        [1.8540e-02, 6.9861e-03, 4.8607e-01, 1.3875e-02, 1.0535e+00],\n",
       "        [1.4282e-01, 7.0402e-03, 2.5497e-01, 1.1489e-02, 1.1597e-02],\n",
       "        [1.5844e-02, 7.1156e-03, 4.9393e-01, 1.0251e-02, 1.2165e-02],\n",
       "        [1.1640e-02, 7.9687e-03, 1.4272e+00, 3.0871e-02, 1.0115e-02],\n",
       "        [1.2034e-02, 6.8853e-03, 1.3850e-02, 2.6420e-02, 7.7919e-03],\n",
       "        [1.5202e-02, 1.4217e-02, 3.0572e+00, 9.4590e-03, 1.7754e-02],\n",
       "        [1.5881e-02, 4.1182e-01, 5.1413e-01, 3.1851e-02, 6.9399e-01],\n",
       "        [1.2594e-02, 1.5742e-02, 3.2721e+00, 9.1792e-02, 1.5613e-02]],\n",
       "       device='cuda:0', grad_fn=<SelectBackward0>)"
      ]
     },
     "execution_count": 254,
     "metadata": {},
     "output_type": "execute_result"
    }
   ],
   "source": [
    "sn.std[0]"
   ]
  },
  {
   "cell_type": "code",
   "execution_count": 255,
   "id": "08ba3e70-fc9c-4cfe-86b9-d6f30231c943",
   "metadata": {},
   "outputs": [
    {
     "data": {
      "text/plain": [
       "tensor([[ 3.8120e-01, -5.8586e-01,  4.2618e-01, -1.5184e+00,  1.7548e+00],\n",
       "        [ 4.8975e-01, -2.8436e-01,  1.4034e+00, -9.2663e-01,  1.5196e+00],\n",
       "        [ 1.1956e+00,  6.3560e-01, -4.5772e-01, -2.7310e-02,  1.2556e+00],\n",
       "        [ 2.0582e+00,  5.7448e-01, -7.3370e-01,  4.4102e-01,  1.7048e+00],\n",
       "        [ 2.1222e+00,  4.6903e-01, -9.0659e-01,  5.8933e-01,  7.8085e-01],\n",
       "        [ 9.8057e-01,  8.5809e-01, -1.5303e+00,  1.2922e+00,  9.2478e-01],\n",
       "        [ 1.9303e+00,  9.8843e-01, -9.8956e-01,  7.0813e-01,  9.0102e-01],\n",
       "        [ 1.0463e+00,  9.6478e-01, -8.7501e-01,  7.8048e-01,  1.1533e+00],\n",
       "        [ 9.5770e-01,  1.6484e+00, -1.6288e+00,  6.8575e-01,  1.6203e+00],\n",
       "        [ 9.0173e-01,  5.3937e-01, -7.4908e-01, -1.2979e-01,  1.9438e+00],\n",
       "        [ 5.9318e-01,  1.2531e+00, -1.2469e+00,  2.1368e-01,  1.8525e+00],\n",
       "        [ 1.5679e-01,  1.1568e+00, -6.9561e-01,  1.2996e-01,  1.5173e+00],\n",
       "        [ 2.8517e-01,  4.5681e-01, -1.1861e+00,  1.0283e+00,  1.4310e+00],\n",
       "        [-1.4684e-03,  2.2320e-02, -1.1741e+00,  7.9336e-01,  5.1962e-01],\n",
       "        [-7.7545e-01,  4.5300e-01, -1.3836e+00,  1.4814e+00, -9.7301e-01],\n",
       "        [-1.8374e+00,  8.5270e-01, -1.0071e+00,  6.0492e-01, -1.0942e+00],\n",
       "        [-1.7926e+00,  1.6641e+00, -1.4013e+00,  1.3277e+00, -7.2675e-01],\n",
       "        [-1.1640e+00,  7.0735e-01, -1.8024e+00,  1.7869e+00, -1.4100e+00],\n",
       "        [-1.6218e+00,  6.9872e-01, -1.1578e+00,  1.6274e+00, -1.3248e+00],\n",
       "        [-1.8898e+00,  2.0181e-01, -1.5594e+00,  1.0998e+00, -1.3406e+00],\n",
       "        [-1.7704e+00,  7.7416e-01, -1.6904e+00,  5.8655e-01, -2.4266e-01],\n",
       "        [-8.4554e-01,  3.5632e-01, -1.0587e+00, -8.7353e-01,  9.2674e-01],\n",
       "        [ 2.7904e-01,  8.4798e-01, -7.0860e-01, -3.9169e-01,  4.5569e-01],\n",
       "        [ 1.4598e-01,  9.0908e-01, -1.1939e+00, -6.7104e-01,  1.1699e+00]],\n",
       "       device='cuda:0', grad_fn=<SelectBackward0>)"
      ]
     },
     "execution_count": 255,
     "metadata": {},
     "output_type": "execute_result"
    }
   ],
   "source": [
    "sn.loc[0]"
   ]
  },
  {
   "cell_type": "code",
   "execution_count": 264,
   "id": "260247de-e0db-4327-aea1-42c78abd53dd",
   "metadata": {},
   "outputs": [],
   "source": [
    "log_p = sn.log_prob(x)"
   ]
  },
  {
   "cell_type": "code",
   "execution_count": 265,
   "id": "9c7c2102-c4f8-4373-8dc1-f38bc03704b6",
   "metadata": {},
   "outputs": [],
   "source": [
    "final = -log_p.mean(axis=0).sum(axis=2)"
   ]
  },
  {
   "cell_type": "code",
   "execution_count": 266,
   "id": "05b6ad71-c8a2-4bbc-9232-f36fc9f77dea",
   "metadata": {},
   "outputs": [
    {
     "data": {
      "text/plain": [
       "tensor(-15.2336, device='cuda:0', grad_fn=<MeanBackward0>)"
      ]
     },
     "execution_count": 266,
     "metadata": {},
     "output_type": "execute_result"
    }
   ],
   "source": [
    "final.mean()"
   ]
  },
  {
   "cell_type": "code",
   "execution_count": 165,
   "id": "916a67a5-371f-4052-ae54-d913fa41bc33",
   "metadata": {},
   "outputs": [
    {
     "data": {
      "text/plain": [
       "tensor([[[3.4046e+00, 5.9851e-02, 5.0004e+00, 2.4783e-01, 4.1118e-02],\n",
       "         [1.6766e+00, 5.1901e-02, 1.1728e+00, 3.4660e+00, 4.1634e-01],\n",
       "         [2.2673e+00, 1.0006e+00, 1.8186e-01, 7.2136e-01, 1.9689e-01],\n",
       "         [5.7206e-01, 3.4250e-01, 4.7609e-01, 3.0630e+00, 2.3964e-02],\n",
       "         [4.5346e-01, 1.2693e+00, 7.7443e-02, 5.1055e-01, 1.8801e-02],\n",
       "         [3.1743e-01, 2.9955e+00, 3.9022e-01, 2.4050e+00, 9.2742e-02],\n",
       "         [5.4768e-01, 1.2794e+00, 3.3353e-01, 1.3763e+00, 3.2633e-02],\n",
       "         [7.3193e-03, 4.6911e+00, 8.8040e-01, 6.2376e-01, 6.9694e-02],\n",
       "         [6.8511e-03, 5.9260e+00, 2.3426e-02, 7.8259e-02, 8.2174e-01],\n",
       "         [6.8398e-03, 6.1229e+00, 1.0607e-02, 3.3317e-01, 3.1649e+00],\n",
       "         [6.9498e-03, 6.8386e+00, 2.0350e-02, 2.5917e-02, 1.9217e+00],\n",
       "         [7.1681e-03, 4.1406e+00, 6.8452e-01, 6.9836e-01, 6.2630e-01],\n",
       "         [6.9975e-03, 3.2531e+00, 6.6677e-02, 3.1164e-02, 6.1267e-02],\n",
       "         [7.3086e-03, 2.6281e+00, 3.2420e-01, 1.1694e-02, 2.4513e-02],\n",
       "         [7.0937e-03, 1.7284e+00, 4.6672e-01, 1.4925e-02, 2.2581e-02],\n",
       "         [7.0247e-03, 1.3059e+00, 4.0771e-01, 1.7404e-02, 2.3859e-02],\n",
       "         [1.1895e-02, 8.0574e-01, 2.4180e+00, 2.1191e-02, 7.8985e-02],\n",
       "         [1.1934e-02, 2.0764e+00, 1.9498e+00, 2.3337e-02, 1.1693e-02],\n",
       "         [4.1886e-02, 9.9652e-01, 4.1503e+00, 3.0784e-02, 1.2542e-02],\n",
       "         [1.7412e-02, 9.0703e-02, 4.2486e-01, 3.4094e-02, 4.3986e-02],\n",
       "         [1.2159e-02, 2.8947e+00, 7.0770e-01, 1.0616e-02, 1.3092e-02],\n",
       "         [1.0275e-01, 1.3383e+00, 3.2551e+00, 8.2296e-02, 3.1116e-02],\n",
       "         [6.2768e-02, 6.9415e-02, 4.7194e+00, 1.1870e-02, 1.5282e-02],\n",
       "         [4.4879e-02, 1.3400e-01, 6.0616e+00, 4.8155e-02, 1.3095e-02]],\n",
       "\n",
       "        [[1.4707e-01, 9.2632e-03, 4.5377e+00, 5.6643e-02, 8.8451e-03],\n",
       "         [2.3979e-02, 1.5815e-02, 4.4847e+00, 2.9854e-01, 2.7048e-01],\n",
       "         [2.4399e-02, 1.5547e-02, 2.0039e+00, 6.0429e-01, 6.3248e-02],\n",
       "         [1.8392e-01, 1.5274e-02, 4.2276e+00, 2.6660e-01, 1.2370e-01],\n",
       "         [3.6080e-02, 4.7945e-01, 1.0347e+00, 2.9249e-02, 4.9170e-01],\n",
       "         [4.5288e+00, 8.6013e-02, 5.4983e-02, 3.0519e+00, 5.7260e-02],\n",
       "         [4.3346e+00, 2.7592e-02, 1.2659e-02, 1.5637e+00, 2.8023e-02],\n",
       "         [3.8515e+00, 3.6648e-01, 1.0135e-02, 4.0639e+00, 5.0708e-02],\n",
       "         [1.4011e+00, 6.6311e-02, 1.7860e-02, 1.5208e+00, 2.2656e-01],\n",
       "         [1.0859e+00, 4.2708e-01, 7.7216e-03, 1.8966e+00, 5.8553e-01],\n",
       "         [1.0358e+00, 3.5400e+00, 7.2616e-03, 9.4140e-01, 8.5990e-01],\n",
       "         [6.9848e-02, 5.3387e-01, 7.4065e-03, 3.1563e-01, 1.0172e+00],\n",
       "         [7.5458e-03, 3.6913e+00, 7.3657e-03, 2.7569e+00, 3.3110e+00],\n",
       "         [9.0370e-03, 6.4985e+00, 1.4465e-02, 3.8730e+00, 4.0162e+00],\n",
       "         [7.2330e-03, 6.3282e+00, 1.3711e-02, 1.2694e+00, 2.5250e+00],\n",
       "         [7.3745e-03, 6.9880e+00, 8.4539e-03, 1.0282e+00, 1.1381e+00],\n",
       "         [7.2514e-03, 7.5439e-01, 1.0360e-02, 6.0760e+00, 5.9490e-02],\n",
       "         [7.0834e-03, 2.3080e-01, 9.8353e-02, 5.0612e+00, 3.6348e-01],\n",
       "         [6.7897e-03, 1.0300e-01, 1.0422e-02, 1.8884e-01, 8.1739e-02],\n",
       "         [1.0056e-02, 1.3321e-01, 1.7502e-02, 3.9305e+00, 6.7800e-02],\n",
       "         [8.8325e-03, 1.6938e-02, 5.2225e-01, 1.3308e+00, 2.6887e-02],\n",
       "         [1.0267e-02, 3.2187e-02, 2.7944e-01, 1.4947e+00, 8.3451e-03],\n",
       "         [1.2747e-02, 1.4751e-02, 3.7014e-01, 3.6119e+00, 2.1903e-02],\n",
       "         [1.2148e-02, 9.3055e-03, 1.9612e+00, 1.7124e+00, 1.0005e-02]]],\n",
       "       device='cuda:0', grad_fn=<ExpBackward0>)"
      ]
     },
     "execution_count": 165,
     "metadata": {},
     "output_type": "execute_result"
    }
   ],
   "source": [
    "sn.std"
   ]
  },
  {
   "cell_type": "code",
   "execution_count": 302,
   "id": "16c23bb4-d40b-4b6a-a175-b28543cb8e16",
   "metadata": {},
   "outputs": [],
   "source": [
    "value = x\n",
    "self.loc = sn.loc\n",
    "log_scale = sn.std.log()\n",
    "var = sn.std ** 2\n",
    "test = -((value - self.loc) ** 2) / (2 * var)  - log_scale - math.log(math.sqrt(2 * math.pi))"
   ]
  },
  {
   "cell_type": "code",
   "execution_count": 312,
   "id": "4b1df8d8-9ad8-4a35-87db-8636cad889bb",
   "metadata": {},
   "outputs": [],
   "source": [
    "v_s = value[0][0][0][0]"
   ]
  },
  {
   "cell_type": "code",
   "execution_count": 313,
   "id": "aa13eb0a-7afa-4dea-8038-b3bf2ab668e5",
   "metadata": {},
   "outputs": [],
   "source": [
    "loc_s = self.loc[0][0][0]"
   ]
  },
  {
   "cell_type": "code",
   "execution_count": 314,
   "id": "ad5ea251-6183-4299-a0e4-26b5073ba409",
   "metadata": {},
   "outputs": [],
   "source": [
    "var_s = var[0][0][0]"
   ]
  },
  {
   "cell_type": "code",
   "execution_count": 317,
   "id": "976c2074-6c52-4b21-8554-c46ad7cc580d",
   "metadata": {},
   "outputs": [],
   "source": [
    "l_s = log_scale[0][0][0]"
   ]
  },
  {
   "cell_type": "code",
   "execution_count": 319,
   "id": "b5a7351c-7c36-4030-89eb-29a50c0a95af",
   "metadata": {},
   "outputs": [
    {
     "data": {
      "text/plain": [
       "tensor([[[-4.2135, -1.5096,  0.7595,  1.1019, -4.8030],\n",
       "         [-3.7985, -2.5322,  0.7998,  1.0861, -4.8592],\n",
       "         [-0.7107, -0.5761, -2.4865,  1.9491, -4.9023],\n",
       "         [-2.4309,  0.1735, -1.4862,  1.8832, -4.8955],\n",
       "         [-3.1793, -0.9195, -2.8907,  1.8128, -4.6282],\n",
       "         [-4.3208, -4.1807,  0.1157,  1.7410, -4.6475],\n",
       "         [-1.7800, -3.4887, -3.2359,  1.7778, -3.7161],\n",
       "         [-1.5694, -0.3423, -2.6794,  1.7414, -1.5202],\n",
       "         [-2.8993, -2.3043, -2.8093,  1.3998,  0.5747],\n",
       "         [-2.2674,  0.8658, -1.9412,  1.3005,  1.8644],\n",
       "         [-1.8614,  1.3975,  0.2215,  0.9881,  1.9915],\n",
       "         [-3.1421,  1.2216,  0.4573,  0.9900,  1.9701],\n",
       "         [-4.6316,  0.0944, -1.4257,  1.5216,  1.9653],\n",
       "         [-1.2349, -0.9062, -0.6095, -2.0113,  1.9776],\n",
       "         [-2.7881, -4.7663, -3.0684, -1.7930,  1.7036],\n",
       "         [-2.7294, -4.4635,  0.9977, -3.5374,  1.7071],\n",
       "         [-3.9878, -4.9638, -0.7214, -4.2776,  0.0521],\n",
       "         [-1.9462, -4.9561, -1.3666, -4.4663, -4.4570],\n",
       "         [-4.1450, -4.9455, -0.7054, -4.5804, -4.4092],\n",
       "         [-4.4533, -4.8322,  0.3557, -3.4779, -4.5937],\n",
       "         [-4.4200, -4.9784, -4.2794, -3.6336, -4.8547],\n",
       "         [-4.1863, -4.2533,  1.1175, -4.6608, -4.0311],\n",
       "         [-4.1427, -0.8872, -0.6653, -3.4467, -0.3653],\n",
       "         [-4.3745, -4.1514,  1.1854, -2.3882, -4.1597]],\n",
       "\n",
       "        [[-4.4594, -1.0114, -2.5086, -4.5249, -3.4302],\n",
       "         [-3.7613, -1.7294,  1.0371, -4.2009, -0.9512],\n",
       "         [-3.2662, -3.2873,  0.4796, -3.4692,  0.3093],\n",
       "         [-0.4925,  0.6436,  1.0442, -2.9279,  1.8291],\n",
       "         [-4.1369,  1.3604, -3.5770, -4.3241, -3.6574],\n",
       "         [-4.7753,  1.9096, -4.0589,  1.3862, -4.6297],\n",
       "         [-1.7772,  1.0854, -4.5564,  1.6972, -2.8720],\n",
       "         [-3.0837,  1.3980, -2.9104,  0.5622, -0.5500],\n",
       "         [-2.3940,  0.7747, -4.5143,  1.4212, -0.7116],\n",
       "         [-3.4991,  0.2557, -3.1713,  1.0566, -0.2516],\n",
       "         [-3.7573,  1.9057, -3.5007,  1.7166, -4.3681],\n",
       "         [-2.0371,  1.9623, -3.2976,  1.3583,  0.1204],\n",
       "         [-2.0779,  1.9890, -2.6844,  0.4835,  1.7959],\n",
       "         [ 0.2019,  1.9437, -4.0149, -1.7463,  1.5278],\n",
       "         [-0.1058,  1.9383, -3.3555, -0.9349,  1.9313],\n",
       "         [-2.1707,  1.9462, -3.4673, -2.4921,  1.9442],\n",
       "         [-3.0972,  1.7553, -4.5682, -1.3696,  1.9454],\n",
       "         [-4.3957,  0.9209, -4.0010, -1.4927,  1.8367],\n",
       "         [-3.8199, -1.5090, -0.9362, -3.3092,  1.7153],\n",
       "         [-3.6708,  0.4142, -0.4468, -3.2583,  1.7396],\n",
       "         [-4.0339, -2.3589,  0.2768, -3.1950,  1.3741],\n",
       "         [-4.3758, -3.3329,  0.1501, -3.3913, -0.2149],\n",
       "         [-3.5620, -2.8959, -2.3105, -4.1258, -4.2657],\n",
       "         [-3.1781, -4.1766, -1.2126, -4.4325, -4.6736]]], device='cuda:0',\n",
       "       grad_fn=<LogBackward0>)"
      ]
     },
     "execution_count": 319,
     "metadata": {},
     "output_type": "execute_result"
    }
   ],
   "source": [
    "log_scale"
   ]
  },
  {
   "cell_type": "code",
   "execution_count": 322,
   "id": "54b16058-c184-4625-a68c-1284a0525e19",
   "metadata": {},
   "outputs": [
    {
     "data": {
      "text/plain": [
       "tensor([[[1.4794e-02, 2.2099e-01, 2.1372e+00, 3.0099e+00, 8.2052e-03],\n",
       "         [2.2405e-02, 7.9488e-02, 2.2251e+00, 2.9626e+00, 7.7570e-03],\n",
       "         [4.9132e-01, 5.6211e-01, 8.3202e-02, 7.0220e+00, 7.4294e-03],\n",
       "         [8.7953e-02, 1.1895e+00, 2.2624e-01, 6.5744e+00, 7.4803e-03],\n",
       "         [4.1614e-02, 3.9871e-01, 5.5539e-02, 6.1278e+00, 9.7723e-03],\n",
       "         [1.3290e-02, 1.5288e-02, 1.1226e+00, 5.7033e+00, 9.5857e-03],\n",
       "         [1.6864e-01, 3.0541e-02, 3.9324e-02, 5.9170e+00, 2.4330e-02],\n",
       "         [2.0817e-01, 7.1011e-01, 6.8607e-02, 5.7051e+00, 2.1866e-01],\n",
       "         [5.5060e-02, 9.9825e-02, 6.0248e-02, 4.0544e+00, 1.7766e+00],\n",
       "         [1.0358e-01, 2.3769e+00, 1.4353e-01, 3.6712e+00, 6.4518e+00],\n",
       "         [1.5546e-01, 4.0451e+00, 1.2480e+00, 2.6862e+00, 7.3265e+00],\n",
       "         [4.3191e-02, 3.3928e+00, 1.5798e+00, 2.6914e+00, 7.1712e+00],\n",
       "         [9.7391e-03, 1.0990e+00, 2.4033e-01, 4.5795e+00, 7.1369e+00],\n",
       "         [2.9087e-01, 4.0404e-01, 5.4364e-01, 1.3382e-01, 7.2252e+00],\n",
       "         [6.1535e-02, 8.5121e-03, 4.6497e-02, 1.6647e-01, 5.4937e+00],\n",
       "         [6.5261e-02, 1.1522e-02, 2.7120e+00, 2.9089e-02, 5.5131e+00],\n",
       "         [1.8540e-02, 6.9861e-03, 4.8607e-01, 1.3875e-02, 1.0535e+00],\n",
       "         [1.4282e-01, 7.0402e-03, 2.5497e-01, 1.1489e-02, 1.1597e-02],\n",
       "         [1.5844e-02, 7.1156e-03, 4.9393e-01, 1.0251e-02, 1.2165e-02],\n",
       "         [1.1640e-02, 7.9687e-03, 1.4272e+00, 3.0871e-02, 1.0115e-02],\n",
       "         [1.2034e-02, 6.8853e-03, 1.3850e-02, 2.6420e-02, 7.7919e-03],\n",
       "         [1.5202e-02, 1.4217e-02, 3.0572e+00, 9.4590e-03, 1.7754e-02],\n",
       "         [1.5881e-02, 4.1182e-01, 5.1413e-01, 3.1851e-02, 6.9399e-01],\n",
       "         [1.2594e-02, 1.5742e-02, 3.2721e+00, 9.1792e-02, 1.5613e-02]],\n",
       "\n",
       "        [[1.1569e-02, 3.6370e-01, 8.1384e-02, 1.0836e-02, 3.2379e-02],\n",
       "         [2.3254e-02, 1.7738e-01, 2.8211e+00, 1.4983e-02, 3.8629e-01],\n",
       "         [3.8149e-02, 3.7355e-02, 1.6155e+00, 3.1143e-02, 1.3625e+00],\n",
       "         [6.1109e-01, 1.9033e+00, 2.8410e+00, 5.3511e-02, 6.2285e+00],\n",
       "         [1.5973e-02, 3.8977e+00, 2.7959e-02, 1.3246e-02, 2.5799e-02],\n",
       "         [8.4352e-03, 6.7502e+00, 1.7268e-02, 3.9998e+00, 9.7579e-03],\n",
       "         [1.6912e-01, 2.9608e+00, 1.0500e-02, 5.4585e+00, 5.6584e-02],\n",
       "         [4.5789e-02, 4.0471e+00, 5.4452e-02, 1.7545e+00, 5.7692e-01],\n",
       "         [9.1263e-02, 2.1700e+00, 1.0951e-02, 4.1419e+00, 4.9087e-01],\n",
       "         [3.0226e-02, 1.2914e+00, 4.1947e-02, 2.8767e+00, 7.7752e-01],\n",
       "         [2.3348e-02, 6.7243e+00, 3.0177e-02, 5.5655e+00, 1.2675e-02],\n",
       "         [1.3040e-01, 7.1156e+00, 3.6973e-02, 3.8897e+00, 1.1279e+00],\n",
       "         [1.2520e-01, 7.3082e+00, 6.8264e-02, 1.6217e+00, 6.0248e+00],\n",
       "         [1.2237e+00, 6.9849e+00, 1.8045e-02, 1.7442e-01, 4.6081e+00],\n",
       "         [8.9958e-01, 6.9469e+00, 3.4891e-02, 3.9264e-01, 6.8982e+00],\n",
       "         [1.1410e-01, 7.0022e+00, 3.1201e-02, 8.2738e-02, 6.9877e+00],\n",
       "         [4.5177e-02, 5.7853e+00, 1.0376e-02, 2.5421e-01, 6.9965e+00],\n",
       "         [1.2330e-02, 2.5116e+00, 1.8297e-02, 2.2476e-01, 6.2760e+00],\n",
       "         [2.1930e-02, 2.2113e-01, 3.9213e-01, 3.6544e-02, 5.5586e+00],\n",
       "         [2.5457e-02, 1.5131e+00, 6.3968e-01, 3.8455e-02, 5.6951e+00],\n",
       "         [1.7705e-02, 9.4524e-02, 1.3189e+00, 4.0967e-02, 3.9516e+00],\n",
       "         [1.2579e-02, 3.5690e-02, 1.1620e+00, 3.3666e-02, 8.0663e-01],\n",
       "         [2.8383e-02, 5.5248e-02, 9.9215e-02, 1.6151e-02, 1.4043e-02],\n",
       "         [4.1664e-02, 1.5351e-02, 2.9744e-01, 1.1885e-02, 9.3389e-03]]],\n",
       "       device='cuda:0', grad_fn=<ExpBackward0>)"
      ]
     },
     "execution_count": 322,
     "metadata": {},
     "output_type": "execute_result"
    }
   ],
   "source": [
    "sn.std"
   ]
  },
  {
   "cell_type": "code",
   "execution_count": null,
   "id": "6a518650-ee0a-4bdd-8548-a886d79cb844",
   "metadata": {},
   "outputs": [],
   "source": []
  }
 ],
 "metadata": {
  "kernelspec": {
   "display_name": "Python 3 (ipykernel)",
   "language": "python",
   "name": "python3"
  },
  "language_info": {
   "codemirror_mode": {
    "name": "ipython",
    "version": 3
   },
   "file_extension": ".py",
   "mimetype": "text/x-python",
   "name": "python",
   "nbconvert_exporter": "python",
   "pygments_lexer": "ipython3",
   "version": "3.9.0"
  }
 },
 "nbformat": 4,
 "nbformat_minor": 5
}
